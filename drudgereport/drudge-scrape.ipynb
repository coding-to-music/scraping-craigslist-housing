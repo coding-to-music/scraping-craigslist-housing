{
 "cells": [
  {
   "cell_type": "code",
   "execution_count": 1,
   "metadata": {},
   "outputs": [
    {
     "ename": "ModuleNotFoundError",
     "evalue": "No module named 'pandas'",
     "output_type": "error",
     "traceback": [
      "\u001b[0;31m---------------------------------------------------------------------------\u001b[0m",
      "\u001b[0;31mModuleNotFoundError\u001b[0m                       Traceback (most recent call last)",
      "\u001b[0;32m/tmp/ipykernel_460962/3671616167.py\u001b[0m in \u001b[0;36m<module>\u001b[0;34m\u001b[0m\n\u001b[1;32m     10\u001b[0m \u001b[0;32mfrom\u001b[0m \u001b[0mIPython\u001b[0m\u001b[0;34m.\u001b[0m\u001b[0mcore\u001b[0m\u001b[0;34m.\u001b[0m\u001b[0mdisplay\u001b[0m \u001b[0;32mimport\u001b[0m \u001b[0mclear_output\u001b[0m\u001b[0;34m\u001b[0m\u001b[0;34m\u001b[0m\u001b[0m\n\u001b[1;32m     11\u001b[0m \u001b[0;32mimport\u001b[0m \u001b[0mnumpy\u001b[0m \u001b[0;32mas\u001b[0m \u001b[0mnp\u001b[0m\u001b[0;34m\u001b[0m\u001b[0;34m\u001b[0m\u001b[0m\n\u001b[0;32m---> 12\u001b[0;31m \u001b[0;32mimport\u001b[0m \u001b[0mpandas\u001b[0m \u001b[0;32mas\u001b[0m \u001b[0mpd\u001b[0m\u001b[0;34m\u001b[0m\u001b[0;34m\u001b[0m\u001b[0m\n\u001b[0m\u001b[1;32m     13\u001b[0m \u001b[0;32mfrom\u001b[0m \u001b[0mdatetime\u001b[0m \u001b[0;32mimport\u001b[0m \u001b[0mdatetime\u001b[0m\u001b[0;34m\u001b[0m\u001b[0;34m\u001b[0m\u001b[0m\n",
      "\u001b[0;31mModuleNotFoundError\u001b[0m: No module named 'pandas'"
     ]
    }
   ],
   "source": [
    "# import all modules that will be used in our scraper\n",
    "\n",
    "from requests import get \n",
    "from bs4 import BeautifulSoup\n",
    "from time import sleep\n",
    "import re\n",
    "from random import randint \n",
    "from warnings import warn\n",
    "from time import time\n",
    "from IPython.core.display import clear_output\n",
    "import numpy as np\n",
    "import pandas as pd\n",
    "from datetime import datetime"
   ]
  },
  {
   "cell_type": "code",
   "execution_count": 2,
   "metadata": {},
   "outputs": [],
   "source": [
    "# request the contents of the page we're scraping\n",
    "\n",
    "results = get('https://www.drudgereport.com/')"
   ]
  },
  {
   "cell_type": "code",
   "execution_count": 3,
   "metadata": {},
   "outputs": [],
   "source": [
    "# make the content we grabbed easy to read\n",
    "\n",
    "html_soup = BeautifulSoup(results.text, 'html.parser')"
   ]
  },
  {
   "cell_type": "code",
   "execution_count": 4,
   "metadata": {},
   "outputs": [
    {
     "name": "stdout",
     "output_type": "stream",
     "text": [
      "<class 'bs4.element.ResultSet'>\n",
      "268\n"
     ]
    }
   ],
   "source": [
    "# get the macro-container containing the posts we want\n",
    "\n",
    "# post = html_soup.find_all('li', class_= 'result-row')\n",
    "\n",
    "posts = html_soup.find_all('a')\n",
    "\n",
    "print(type(posts)) # check I got a ResultSet\n",
    "print(len(posts)) # check I got 120 "
   ]
  },
  {
   "cell_type": "code",
   "execution_count": 11,
   "metadata": {},
   "outputs": [
    {
     "data": {
      "text/plain": [
       "'POLL: Inflation up, virus down as priorities in USA...'"
      ]
     },
     "execution_count": 11,
     "metadata": {},
     "output_type": "execute_result"
    }
   ],
   "source": [
    "# posts[0]\n",
    "posts[0].text"
   ]
  },
  {
   "cell_type": "code",
   "execution_count": 12,
   "metadata": {},
   "outputs": [
    {
     "data": {
      "text/plain": [
       "'https://apnews.com/article/coronavirus-pandemic-joe-biden-business-health-elections-bb16c5c52e2bf719ec8a0c5415aaf66c'"
      ]
     },
     "execution_count": 12,
     "metadata": {},
     "output_type": "execute_result"
    }
   ],
   "source": [
    "posts[0]['href']"
   ]
  },
  {
   "cell_type": "markdown",
   "metadata": {},
   "source": [
    "Top Left\n",
    "- Start at [0]\n",
    "- End with ??\n",
    "Center\n",
    "- Start with ??\n",
    "- End with \"drudgereport\"\n",
    "Column1\n",
    "- Posts\n",
    "    - Start after \"drudgereport\"\n",
    "    - End with \"FRONT PAGES UK\"\n",
    "- Links\n",
    "    - Start after \"FRONT PAGES UK\"\n",
    "    - End with \"ZEROHEDGE\"\n",
    "\n",
    "Column2\n",
    "- Posts\n",
    "    - Start after \"ZEROHEDGE\"\n",
    "    - End with \"WORLD SICK MAP...\"\n",
    "- Links\n",
    "    - Start after \"WORLD SICK MAP...\"\n",
    "    - End with \"BYRON YORK\"\n",
    "\n",
    "Column3\n",
    "- Posts\n",
    "    - Start after \"BYRON YORK\"\n",
    "    - End with \"UPDATE: DRUDGE APP IPHONE, IPAD...\"\n",
    "- Links\n",
    "    - Start after \"UPDATE: DRUDGE APP IPHONE, IPAD...\"\n",
    "    - End with \"PRIVACY POLICY\"\n"
   ]
  },
  {
   "cell_type": "code",
   "execution_count": null,
   "metadata": {},
   "outputs": [],
   "source": [
    "\n"
   ]
  }
 ],
 "metadata": {
  "interpreter": {
   "hash": "fd2c36b04d3ce09a4da40969b0df15ba60dbe9c53751893183590f8218ff5ba6"
  },
  "kernelspec": {
   "display_name": "Python 3.8.10 64-bit ('env': venv)",
   "language": "python",
   "name": "python3"
  },
  "language_info": {
   "codemirror_mode": {
    "name": "ipython",
    "version": 3
   },
   "file_extension": ".py",
   "mimetype": "text/x-python",
   "name": "python",
   "nbconvert_exporter": "python",
   "pygments_lexer": "ipython3",
   "version": "3.8.10"
  },
  "orig_nbformat": 4
 },
 "nbformat": 4,
 "nbformat_minor": 2
}
