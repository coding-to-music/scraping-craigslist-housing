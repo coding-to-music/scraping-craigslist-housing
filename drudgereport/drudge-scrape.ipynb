{
 "cells": [
  {
   "cell_type": "code",
   "execution_count": 44,
   "metadata": {},
   "outputs": [
    {
     "name": "stdout",
     "output_type": "stream",
     "text": [
      "2022-01-12 07:22:33.286469\n"
     ]
    }
   ],
   "source": [
    "# An example of getting current date\n",
    " \n",
    "import datetime\n",
    " \n",
    " \n",
    " \n",
    "currDate = datetime.datetime.now()\n",
    " \n",
    "print(currDate)"
   ]
  },
  {
   "cell_type": "code",
   "execution_count": 45,
   "metadata": {},
   "outputs": [
    {
     "name": "stdout",
     "output_type": "stream",
     "text": [
      "Current Time = 07:22:33\n"
     ]
    }
   ],
   "source": [
    "from datetime import datetime\n",
    "\n",
    "now = datetime.now()\n",
    "\n",
    "current_time = now.strftime(\"%H:%M:%S\")\n",
    "print(\"Current Time =\", current_time)\n"
   ]
  },
  {
   "cell_type": "code",
   "execution_count": 46,
   "metadata": {},
   "outputs": [
    {
     "name": "stdout",
     "output_type": "stream",
     "text": [
      "now = 07:22:33.963483\n",
      "type(now) = <class 'datetime.time'>\n"
     ]
    }
   ],
   "source": [
    "from datetime import datetime\n",
    "\n",
    "now = datetime.now().time() # time object\n",
    "\n",
    "print(\"now =\", now)\n",
    "print(\"type(now) =\", type(now))\t"
   ]
  },
  {
   "cell_type": "code",
   "execution_count": 47,
   "metadata": {},
   "outputs": [
    {
     "name": "stdout",
     "output_type": "stream",
     "text": [
      "Time now at greenwich meridian is : 2022-01-12 07:22:34.203795\n"
     ]
    }
   ],
   "source": [
    "# importing datetime module for now()\n",
    "import datetime\n",
    "  \n",
    "# using now() to get current time\n",
    "current_time = datetime.datetime.now()\n",
    "  \n",
    "# Printing value of now.\n",
    "print (\"Time now at greenwich meridian is : \"\n",
    "                                    , end = \"\")\n",
    "print (current_time)"
   ]
  },
  {
   "cell_type": "code",
   "execution_count": 48,
   "metadata": {},
   "outputs": [
    {
     "name": "stdout",
     "output_type": "stream",
     "text": [
      "The attributes of now() are : \n",
      "Year : 2022\n",
      "Month : 1\n",
      "Day : 12\n",
      "Hour : 7\n",
      "Minute : 22\n",
      "Second : 34\n",
      "Microsecond : 629693\n"
     ]
    }
   ],
   "source": [
    "\n",
    "  # importing datetime module for now()\n",
    "import datetime\n",
    "  \n",
    "# using now() to get current time\n",
    "current_time = datetime.datetime.now()\n",
    "  \n",
    "# Printing attributes of now().\n",
    "print (\"The attributes of now() are : \")\n",
    "  \n",
    "print (\"Year : \", end = \"\")\n",
    "print (current_time.year)\n",
    "  \n",
    "print (\"Month : \", end = \"\")\n",
    "print (current_time.month)\n",
    "  \n",
    "print (\"Day : \", end = \"\")\n",
    "print (current_time.day)\n",
    "  \n",
    "print (\"Hour : \", end = \"\")\n",
    "print (current_time.hour)\n",
    "  \n",
    "print (\"Minute : \", end = \"\")\n",
    "print (current_time.minute)\n",
    "  \n",
    "print (\"Second : \", end = \"\")\n",
    "print (current_time.second)\n",
    "  \n",
    "print (\"Microsecond : \", end = \"\")\n",
    "print (current_time.microsecond)"
   ]
  },
  {
   "cell_type": "code",
   "execution_count": 49,
   "metadata": {},
   "outputs": [],
   "source": [
    "# mrkt_stat = []\n",
    "# for td in site.findAll('td'):\n",
    "#  if 'bgcolor' in td.attrs:\n",
    "#   mrkt_stat.append(td.attrs['bgcolor'])"
   ]
  },
  {
   "cell_type": "code",
   "execution_count": 50,
   "metadata": {},
   "outputs": [],
   "source": [
    "# python3 -m pip install pymongo\n",
    "\n",
    "# importing pymongo\n",
    "from pymongo import MongoClient"
   ]
  },
  {
   "cell_type": "code",
   "execution_count": 51,
   "metadata": {},
   "outputs": [
    {
     "name": "stdout",
     "output_type": "stream",
     "text": [
      "Connected successfully!!!\n"
     ]
    }
   ],
   "source": [
    "# establing connection\n",
    "try:\n",
    "    connect = MongoClient()\n",
    "    print(\"Connected successfully!!!\")\n",
    "except:\n",
    "    print(\"Could not connect to MongoDB\")"
   ]
  },
  {
   "cell_type": "code",
   "execution_count": 52,
   "metadata": {},
   "outputs": [],
   "source": [
    "# import all modules that will be used in our scraper\n",
    "\n",
    "# sudo apt install python3-pandas\n",
    "\n",
    "# source ./env/bin/activate\n",
    "\n",
    "# pip3 install pandas\n",
    "# python3 -m pip install pymongo\n",
    "\n",
    "from requests import get \n",
    "from bs4 import BeautifulSoup\n",
    "from time import sleep\n",
    "import re\n",
    "from random import randint \n",
    "from warnings import warn\n",
    "from time import time\n",
    "from IPython.core.display import clear_output\n",
    "import numpy as np\n",
    "import pandas as pd\n",
    "from datetime import datetime"
   ]
  },
  {
   "cell_type": "code",
   "execution_count": 53,
   "metadata": {},
   "outputs": [],
   "source": [
    "# request the contents of the page we're scraping\n",
    "\n",
    "results = get('https://www.drudgereport.com/')"
   ]
  },
  {
   "cell_type": "code",
   "execution_count": 54,
   "metadata": {},
   "outputs": [],
   "source": [
    "# make the content we grabbed easy to read\n",
    "\n",
    "html_soup = BeautifulSoup(results.text, 'html.parser')"
   ]
  },
  {
   "cell_type": "code",
   "execution_count": 55,
   "metadata": {},
   "outputs": [
    {
     "name": "stdout",
     "output_type": "stream",
     "text": [
      "<class 'bs4.element.ResultSet'>\n",
      "233\n"
     ]
    }
   ],
   "source": [
    "# get the macro-container containing the posts we want\n",
    "\n",
    "# post = html_soup.find_all('li', class_= 'result-row')\n",
    "\n",
    "posts = html_soup.find_all('a')\n",
    "\n",
    "print(type(posts)) # check I got a ResultSet\n",
    "print(len(posts)) # check I got 120 "
   ]
  },
  {
   "cell_type": "code",
   "execution_count": 56,
   "metadata": {},
   "outputs": [
    {
     "data": {
      "text/plain": [
       "'HILLARY 2024'"
      ]
     },
     "execution_count": 56,
     "metadata": {},
     "output_type": "execute_result"
    }
   ],
   "source": [
    "# posts[0]\n",
    "posts[0].text"
   ]
  },
  {
   "cell_type": "code",
   "execution_count": 57,
   "metadata": {},
   "outputs": [
    {
     "data": {
      "text/plain": [
       "'https://www.wsj.com/articles/hillary-clinton-2024-comeback-president-biden-harris-democrat-nominee-race-2022-midterm-loss-11641914951'"
      ]
     },
     "execution_count": 57,
     "metadata": {},
     "output_type": "execute_result"
    }
   ],
   "source": [
    "posts[0]['href']"
   ]
  },
  {
   "cell_type": "markdown",
   "metadata": {},
   "source": [
    "Top Left\n",
    "- Start at [0]\n",
    "- End with ??\n",
    "Center\n",
    "- Start with ??\n",
    "- End with \"drudgereport\"\n",
    "Column1\n",
    "- Posts\n",
    "    - Start after \"drudgereport\"\n",
    "    - End with \"FRONT PAGES UK\"\n",
    "- Links\n",
    "    - Start after \"FRONT PAGES UK\"\n",
    "    - End with \"ZEROHEDGE\"\n",
    "\n",
    "Column2\n",
    "- Posts\n",
    "    - Start after \"ZEROHEDGE\"\n",
    "    - End with \"WORLD SICK MAP...\"\n",
    "- Links\n",
    "    - Start after \"WORLD SICK MAP...\"\n",
    "    - End with \"BYRON YORK\"\n",
    "\n",
    "Column3\n",
    "- Posts\n",
    "    - Start after \"BYRON YORK\"\n",
    "    - End with \"UPDATE: DRUDGE APP IPHONE, IPAD...\"\n",
    "- Links\n",
    "    - Start after \"UPDATE: DRUDGE APP IPHONE, IPAD...\"\n",
    "    - End with \"PRIVACY POLICY\"\n"
   ]
  },
  {
   "cell_type": "code",
   "execution_count": 58,
   "metadata": {},
   "outputs": [],
   "source": [
    "labels = [\n",
    "    'TOP LEFT',\n",
    "    'CENTER',\n",
    "    'COLUMN1-POSTS',\n",
    "    'COLUMN1-LINKS',\n",
    "    'COLUMN2-POSTS',\n",
    "    'COLUMN2-LINKS',\n",
    "    'COLUMN3-POSTS',\n",
    "    'COLUMN3-LINKS',\n",
    "]"
   ]
  },
  {
   "cell_type": "code",
   "execution_count": 59,
   "metadata": {},
   "outputs": [
    {
     "data": {
      "text/plain": [
       "['TOP LEFT',\n",
       " 'CENTER',\n",
       " 'COLUMN1-POSTS',\n",
       " 'COLUMN1-LINKS',\n",
       " 'COLUMN2-POSTS',\n",
       " 'COLUMN2-LINKS',\n",
       " 'COLUMN3-POSTS',\n",
       " 'COLUMN3-LINKS']"
      ]
     },
     "execution_count": 59,
     "metadata": {},
     "output_type": "execute_result"
    }
   ],
   "source": [
    "labels"
   ]
  },
  {
   "cell_type": "code",
   "execution_count": 60,
   "metadata": {},
   "outputs": [],
   "source": [
    "keyrows = [\n",
    "    'UNKNOWN', \n",
    "    'DRUDGEREPORT', \n",
    "    'FRONT PAGES UK', \n",
    "    'ZEROHEDGE',\n",
    "    'WORLD SICK MAP...', \n",
    "    'BYRON YORK',\n",
    "    'UPDATE: DRUDGE APP IPHONE, IPAD...',\n",
    "    'PRIVACY POLICY',\n",
    "    ]"
   ]
  },
  {
   "cell_type": "code",
   "execution_count": 61,
   "metadata": {},
   "outputs": [
    {
     "data": {
      "text/plain": [
       "['UNKNOWN',\n",
       " 'DRUDGEREPORT',\n",
       " 'FRONT PAGES UK',\n",
       " 'ZEROHEDGE',\n",
       " 'WORLD SICK MAP...',\n",
       " 'BYRON YORK',\n",
       " 'UPDATE: DRUDGE APP IPHONE, IPAD...',\n",
       " 'PRIVACY POLICY']"
      ]
     },
     "execution_count": 61,
     "metadata": {},
     "output_type": "execute_result"
    }
   ],
   "source": [
    "keyrows"
   ]
  },
  {
   "cell_type": "code",
   "execution_count": 62,
   "metadata": {},
   "outputs": [],
   "source": [
    "interesting = [\n",
    "    ['UNKNOWN', 'TOP LEFT'],\n",
    "    ['DRUDGEREPORT', 'CENTER'],\n",
    "    ['FRONT PAGES UK', 'COLUMN1-POSTS'],\n",
    "    ['ZEROHEDGE', 'COLUMN2-LINKS'],\n",
    "    ['WORLD SICK MAP...', 'COLUMN2-LINKS'],\n",
    "    ['BYRON YORK', 'COLUMN1-POSTS'],\n",
    "    ['UPDATE: DRUDGE APP IPHONE, IPAD...', 'COLUMN3-POSTS'],\n",
    "    ['PRIVACY POLICY', 'COLUMN3-LINKS'],\n",
    "    ]"
   ]
  },
  {
   "cell_type": "code",
   "execution_count": 63,
   "metadata": {},
   "outputs": [
    {
     "data": {
      "text/plain": [
       "[['UNKNOWN', 'TOP LEFT'],\n",
       " ['DRUDGEREPORT', 'CENTER'],\n",
       " ['FRONT PAGES UK', 'COLUMN1-POSTS'],\n",
       " ['ZEROHEDGE', 'COLUMN2-LINKS'],\n",
       " ['WORLD SICK MAP...', 'COLUMN2-LINKS'],\n",
       " ['BYRON YORK', 'COLUMN1-POSTS'],\n",
       " ['UPDATE: DRUDGE APP IPHONE, IPAD...', 'COLUMN3-POSTS'],\n",
       " ['PRIVACY POLICY', 'COLUMN3-LINKS']]"
      ]
     },
     "execution_count": 63,
     "metadata": {},
     "output_type": "execute_result"
    }
   ],
   "source": [
    "interesting"
   ]
  },
  {
   "cell_type": "code",
   "execution_count": 64,
   "metadata": {},
   "outputs": [],
   "source": [
    "# interesting[:,1]"
   ]
  },
  {
   "cell_type": "code",
   "execution_count": 65,
   "metadata": {},
   "outputs": [
    {
     "data": {
      "text/plain": [
       "['ZEROHEDGE', 'COLUMN2-LINKS']"
      ]
     },
     "execution_count": 65,
     "metadata": {},
     "output_type": "execute_result"
    }
   ],
   "source": [
    "interesting[3][:]"
   ]
  },
  {
   "cell_type": "code",
   "execution_count": 66,
   "metadata": {},
   "outputs": [
    {
     "data": {
      "text/plain": [
       "[['UNKNOWN', 'TOP LEFT'],\n",
       " ['DRUDGEREPORT', 'CENTER'],\n",
       " ['FRONT PAGES UK', 'COLUMN1-POSTS'],\n",
       " ['ZEROHEDGE', 'COLUMN2-LINKS'],\n",
       " ['WORLD SICK MAP...', 'COLUMN2-LINKS']]"
      ]
     },
     "execution_count": 66,
     "metadata": {},
     "output_type": "execute_result"
    }
   ],
   "source": [
    "interesting[:5]"
   ]
  },
  {
   "cell_type": "code",
   "execution_count": 67,
   "metadata": {},
   "outputs": [
    {
     "data": {
      "text/plain": [
       "[['BYRON YORK', 'COLUMN1-POSTS'],\n",
       " ['UPDATE: DRUDGE APP IPHONE, IPAD...', 'COLUMN3-POSTS'],\n",
       " ['PRIVACY POLICY', 'COLUMN3-LINKS']]"
      ]
     },
     "execution_count": 67,
     "metadata": {},
     "output_type": "execute_result"
    }
   ],
   "source": [
    "interesting[5:]"
   ]
  },
  {
   "cell_type": "code",
   "execution_count": 68,
   "metadata": {},
   "outputs": [
    {
     "data": {
      "text/plain": [
       "['BYRON YORK', 'COLUMN1-POSTS']"
      ]
     },
     "execution_count": 68,
     "metadata": {},
     "output_type": "execute_result"
    }
   ],
   "source": [
    "interesting[5]"
   ]
  },
  {
   "cell_type": "code",
   "execution_count": 69,
   "metadata": {},
   "outputs": [],
   "source": [
    "# print(\"Sliced array: \", interesting[2:5])"
   ]
  },
  {
   "cell_type": "code",
   "execution_count": 70,
   "metadata": {},
   "outputs": [],
   "source": [
    "# Initilize arrays\n",
    "post_capture_date = []\n",
    "post_row = []\n",
    "post_area = []\n",
    "post_text = []\n",
    "post_link = []\n",
    "post_size = []\n",
    "post_color = []"
   ]
  },
  {
   "cell_type": "code",
   "execution_count": 73,
   "metadata": {},
   "outputs": [
    {
     "name": "stdout",
     "output_type": "stream",
     "text": [
      "2\n",
      "20 FRONT PAGES UK FRONT PAGES UK\n",
      "20 FRONT PAGES UK COLUMN1-POSTS\n",
      "3\n",
      "111 ZEROHEDGE ZEROHEDGE\n",
      "111 ZEROHEDGE COLUMN1-LINKS\n",
      "4\n",
      "134 WORLD SICK MAP... WORLD SICK MAP...\n",
      "134 WORLD SICK MAP... COLUMN2-POSTS\n",
      "5\n",
      "187 BYRON YORK BYRON YORK\n",
      "187 BYRON YORK COLUMN2-LINKS\n",
      "7\n",
      "232 PRIVACY POLICY PRIVACY POLICY\n",
      "232 PRIVACY POLICY COLUMN3-LINKS\n"
     ]
    }
   ],
   "source": [
    "row = 0\n",
    "label = labels[row]\n",
    "currDate = datetime.now()\n",
    "\n",
    "for post in posts:\n",
    "    \n",
    "    if post.text in keyrows:\n",
    "        foundrow = keyrows.index(post.text)\n",
    "        print(foundrow)\n",
    "        print(row, post.text, keyrows[foundrow])\n",
    "        print(row, post.text, labels[foundrow])\n",
    "        label = labels[foundrow]\n",
    "\n",
    "    post_capture_date.append(currDate)\n",
    "    post_row.append(row)\n",
    "    post_area.append(label)\n",
    "    post_text.append(post.text)\n",
    "    post_link.append(post.link)\n",
    "    post_size.append(currDate)\n",
    "    post_color.append(post.attrs)\n",
    "\n",
    "    # print(row, label, post.text)\n",
    "    # print(row, label, post.text, currDate)\n",
    "\n",
    "    row = row + 1\n"
   ]
  },
  {
   "cell_type": "code",
   "execution_count": 75,
   "metadata": {},
   "outputs": [
    {
     "name": "stdout",
     "output_type": "stream",
     "text": [
      "<class 'pandas.core.frame.DataFrame'>\n",
      "RangeIndex: 466 entries, 0 to 465\n",
      "Data columns (total 7 columns):\n",
      " #   Column             Non-Null Count  Dtype         \n",
      "---  ------             --------------  -----         \n",
      " 0   post_capture_date  466 non-null    datetime64[ns]\n",
      " 1   post_row           466 non-null    int64         \n",
      " 2   post_area          466 non-null    object        \n",
      " 3   post_text          466 non-null    object        \n",
      " 4   post_link          0 non-null      object        \n",
      " 5   post_size          466 non-null    datetime64[ns]\n",
      " 6   post_color         466 non-null    object        \n",
      "dtypes: datetime64[ns](2), int64(1), object(4)\n",
      "memory usage: 25.6+ KB\n",
      "None\n"
     ]
    },
    {
     "data": {
      "text/html": [
       "<div>\n",
       "<style scoped>\n",
       "    .dataframe tbody tr th:only-of-type {\n",
       "        vertical-align: middle;\n",
       "    }\n",
       "\n",
       "    .dataframe tbody tr th {\n",
       "        vertical-align: top;\n",
       "    }\n",
       "\n",
       "    .dataframe thead th {\n",
       "        text-align: right;\n",
       "    }\n",
       "</style>\n",
       "<table border=\"1\" class=\"dataframe\">\n",
       "  <thead>\n",
       "    <tr style=\"text-align: right;\">\n",
       "      <th></th>\n",
       "      <th>post_capture_date</th>\n",
       "      <th>post_row</th>\n",
       "      <th>post_area</th>\n",
       "      <th>post_text</th>\n",
       "      <th>post_link</th>\n",
       "      <th>post_size</th>\n",
       "      <th>post_color</th>\n",
       "    </tr>\n",
       "  </thead>\n",
       "  <tbody>\n",
       "    <tr>\n",
       "      <th>0</th>\n",
       "      <td>2022-01-12 07:23:32.325035</td>\n",
       "      <td>0</td>\n",
       "      <td>TOP LEFT</td>\n",
       "      <td>HILLARY 2024</td>\n",
       "      <td>None</td>\n",
       "      <td>2022-01-12 07:23:32.325035</td>\n",
       "      <td>{'href': 'https://www.wsj.com/articles/hillary...</td>\n",
       "    </tr>\n",
       "    <tr>\n",
       "      <th>1</th>\n",
       "      <td>2022-01-12 07:23:32.325035</td>\n",
       "      <td>1</td>\n",
       "      <td>TOP LEFT</td>\n",
       "      <td>'PERFECT STORM' FOR COMEBACK</td>\n",
       "      <td>None</td>\n",
       "      <td>2022-01-12 07:23:32.325035</td>\n",
       "      <td>{'href': 'https://www.washingtonexaminer.com/n...</td>\n",
       "    </tr>\n",
       "    <tr>\n",
       "      <th>2</th>\n",
       "      <td>2022-01-12 07:23:32.325035</td>\n",
       "      <td>2</td>\n",
       "      <td>TOP LEFT</td>\n",
       "      <td>TRUMP TO RALLY IN AZ</td>\n",
       "      <td>None</td>\n",
       "      <td>2022-01-12 07:23:32.325035</td>\n",
       "      <td>{'href': 'https://www.axios.com/trump-election...</td>\n",
       "    </tr>\n",
       "    <tr>\n",
       "      <th>3</th>\n",
       "      <td>2022-01-12 07:23:32.325035</td>\n",
       "      <td>3</td>\n",
       "      <td>TOP LEFT</td>\n",
       "      <td>HERE WE GO AGAIN</td>\n",
       "      <td>None</td>\n",
       "      <td>2022-01-12 07:23:32.325035</td>\n",
       "      <td>{'href': 'https://thehill.com/homenews/media/5...</td>\n",
       "    </tr>\n",
       "    <tr>\n",
       "      <th>4</th>\n",
       "      <td>2022-01-12 07:23:32.325035</td>\n",
       "      <td>4</td>\n",
       "      <td>TOP LEFT</td>\n",
       "      <td></td>\n",
       "      <td>None</td>\n",
       "      <td>2022-01-12 07:23:32.325035</td>\n",
       "      <td>{'href': 'https://www.drudgereport.com'}</td>\n",
       "    </tr>\n",
       "    <tr>\n",
       "      <th>...</th>\n",
       "      <td>...</td>\n",
       "      <td>...</td>\n",
       "      <td>...</td>\n",
       "      <td>...</td>\n",
       "      <td>...</td>\n",
       "      <td>...</td>\n",
       "      <td>...</td>\n",
       "    </tr>\n",
       "    <tr>\n",
       "      <th>461</th>\n",
       "      <td>2022-01-12 07:23:57.357906</td>\n",
       "      <td>228</td>\n",
       "      <td>COLUMN2-LINKS</td>\n",
       "      <td>EMAIL: DRUDGE@DRUDGEREPORT.COM</td>\n",
       "      <td>None</td>\n",
       "      <td>2022-01-12 07:23:57.357906</td>\n",
       "      <td>{'href': 'mailto:drudge@drudgereport.com'}</td>\n",
       "    </tr>\n",
       "    <tr>\n",
       "      <th>462</th>\n",
       "      <td>2022-01-12 07:23:57.357906</td>\n",
       "      <td>229</td>\n",
       "      <td>COLUMN2-LINKS</td>\n",
       "      <td>BE SEEN! RUN ADS ON DRUDGE REPORT...</td>\n",
       "      <td>None</td>\n",
       "      <td>2022-01-12 07:23:57.357906</td>\n",
       "      <td>{'href': 'https://voranda.com/advertise/drudge...</td>\n",
       "    </tr>\n",
       "    <tr>\n",
       "      <th>463</th>\n",
       "      <td>2022-01-12 07:23:57.357906</td>\n",
       "      <td>230</td>\n",
       "      <td>COLUMN2-LINKS</td>\n",
       "      <td>CALIFORNIA NOTICE</td>\n",
       "      <td>None</td>\n",
       "      <td>2022-01-12 07:23:57.357906</td>\n",
       "      <td>{'id': 'ca_notice', 'href': '/privacy/californ...</td>\n",
       "    </tr>\n",
       "    <tr>\n",
       "      <th>464</th>\n",
       "      <td>2022-01-12 07:23:57.357906</td>\n",
       "      <td>231</td>\n",
       "      <td>COLUMN2-LINKS</td>\n",
       "      <td>DO NOT SELL MY INFO</td>\n",
       "      <td>None</td>\n",
       "      <td>2022-01-12 07:23:57.357906</td>\n",
       "      <td>{'id': 'ca_info', 'href': '/privacy/opt-out/'}</td>\n",
       "    </tr>\n",
       "    <tr>\n",
       "      <th>465</th>\n",
       "      <td>2022-01-12 07:23:57.357906</td>\n",
       "      <td>232</td>\n",
       "      <td>COLUMN3-LINKS</td>\n",
       "      <td>PRIVACY POLICY</td>\n",
       "      <td>None</td>\n",
       "      <td>2022-01-12 07:23:57.357906</td>\n",
       "      <td>{'href': '/privacy/'}</td>\n",
       "    </tr>\n",
       "  </tbody>\n",
       "</table>\n",
       "<p>466 rows × 7 columns</p>\n",
       "</div>"
      ],
      "text/plain": [
       "             post_capture_date  post_row      post_area  \\\n",
       "0   2022-01-12 07:23:32.325035         0       TOP LEFT   \n",
       "1   2022-01-12 07:23:32.325035         1       TOP LEFT   \n",
       "2   2022-01-12 07:23:32.325035         2       TOP LEFT   \n",
       "3   2022-01-12 07:23:32.325035         3       TOP LEFT   \n",
       "4   2022-01-12 07:23:32.325035         4       TOP LEFT   \n",
       "..                         ...       ...            ...   \n",
       "461 2022-01-12 07:23:57.357906       228  COLUMN2-LINKS   \n",
       "462 2022-01-12 07:23:57.357906       229  COLUMN2-LINKS   \n",
       "463 2022-01-12 07:23:57.357906       230  COLUMN2-LINKS   \n",
       "464 2022-01-12 07:23:57.357906       231  COLUMN2-LINKS   \n",
       "465 2022-01-12 07:23:57.357906       232  COLUMN3-LINKS   \n",
       "\n",
       "                                post_text post_link  \\\n",
       "0                            HILLARY 2024      None   \n",
       "1            'PERFECT STORM' FOR COMEBACK      None   \n",
       "2                    TRUMP TO RALLY IN AZ      None   \n",
       "3                        HERE WE GO AGAIN      None   \n",
       "4                                              None   \n",
       "..                                    ...       ...   \n",
       "461        EMAIL: DRUDGE@DRUDGEREPORT.COM      None   \n",
       "462  BE SEEN! RUN ADS ON DRUDGE REPORT...      None   \n",
       "463                     CALIFORNIA NOTICE      None   \n",
       "464                   DO NOT SELL MY INFO      None   \n",
       "465                        PRIVACY POLICY      None   \n",
       "\n",
       "                     post_size  \\\n",
       "0   2022-01-12 07:23:32.325035   \n",
       "1   2022-01-12 07:23:32.325035   \n",
       "2   2022-01-12 07:23:32.325035   \n",
       "3   2022-01-12 07:23:32.325035   \n",
       "4   2022-01-12 07:23:32.325035   \n",
       "..                         ...   \n",
       "461 2022-01-12 07:23:57.357906   \n",
       "462 2022-01-12 07:23:57.357906   \n",
       "463 2022-01-12 07:23:57.357906   \n",
       "464 2022-01-12 07:23:57.357906   \n",
       "465 2022-01-12 07:23:57.357906   \n",
       "\n",
       "                                            post_color  \n",
       "0    {'href': 'https://www.wsj.com/articles/hillary...  \n",
       "1    {'href': 'https://www.washingtonexaminer.com/n...  \n",
       "2    {'href': 'https://www.axios.com/trump-election...  \n",
       "3    {'href': 'https://thehill.com/homenews/media/5...  \n",
       "4             {'href': 'https://www.drudgereport.com'}  \n",
       "..                                                 ...  \n",
       "461         {'href': 'mailto:drudge@drudgereport.com'}  \n",
       "462  {'href': 'https://voranda.com/advertise/drudge...  \n",
       "463  {'id': 'ca_notice', 'href': '/privacy/californ...  \n",
       "464     {'id': 'ca_info', 'href': '/privacy/opt-out/'}  \n",
       "465                              {'href': '/privacy/'}  \n",
       "\n",
       "[466 rows x 7 columns]"
      ]
     },
     "execution_count": 75,
     "metadata": {},
     "output_type": "execute_result"
    }
   ],
   "source": [
    "import pandas as pd\n",
    "\n",
    "scrape_results = pd.DataFrame({\n",
    "    'post_capture_date': post_capture_date,\n",
    "    'post_row': post_row,\n",
    "    'post_area': post_area,\n",
    "    'post_text': post_text,\n",
    "    'post_link': post_link,\n",
    "    'post_size': post_size,\n",
    "    'post_color': post_color,\n",
    "    })\n",
    "\n",
    "print(scrape_results.info())\n",
    "scrape_results"
   ]
  },
  {
   "cell_type": "code",
   "execution_count": null,
   "metadata": {},
   "outputs": [],
   "source": [
    "client = pymongo.MongoClient(\"mongodb+srv://<username>:<password>@cluster0.zadqe.mongodb.net/myFirstDatabase?retryWrites=true&w=majority\")\n",
    "# db = client.test"
   ]
  },
  {
   "cell_type": "code",
   "execution_count": null,
   "metadata": {},
   "outputs": [],
   "source": [
    "# import pymongo\n",
    "\n",
    "# myclient = pymongo.MongoClient(\"mongodb://localhost:27017/\")\n",
    "# mydb = myclient[\"drudge\"]\n",
    "# mycol = mydb[\"customers\"]\n",
    "\n",
    "# mydict = { \"name\": \"John\", \"address\": \"Highway 37\" }\n",
    "\n",
    "# x = mycol.insert_one(scrape_results)"
   ]
  }
 ],
 "metadata": {
  "interpreter": {
   "hash": "fd2c36b04d3ce09a4da40969b0df15ba60dbe9c53751893183590f8218ff5ba6"
  },
  "kernelspec": {
   "display_name": "Python 3.8.10 64-bit ('env': venv)",
   "language": "python",
   "name": "python3"
  },
  "language_info": {
   "codemirror_mode": {
    "name": "ipython",
    "version": 3
   },
   "file_extension": ".py",
   "mimetype": "text/x-python",
   "name": "python",
   "nbconvert_exporter": "python",
   "pygments_lexer": "ipython3",
   "version": "3.8.10"
  },
  "orig_nbformat": 4
 },
 "nbformat": 4,
 "nbformat_minor": 2
}
