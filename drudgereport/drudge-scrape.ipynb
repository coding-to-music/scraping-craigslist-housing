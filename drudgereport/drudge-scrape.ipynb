{
 "cells": [
  {
   "cell_type": "code",
   "execution_count": 56,
   "metadata": {},
   "outputs": [],
   "source": [
    "# import all modules that will be used in our scraper\n",
    "\n",
    "from requests import get \n",
    "from bs4 import BeautifulSoup\n",
    "from time import sleep\n",
    "import re\n",
    "from random import randint \n",
    "from warnings import warn\n",
    "from time import time\n",
    "from IPython.core.display import clear_output\n",
    "import numpy as np\n",
    "# import pandas as pd\n",
    "from datetime import datetime"
   ]
  },
  {
   "cell_type": "code",
   "execution_count": 57,
   "metadata": {},
   "outputs": [],
   "source": [
    "# request the contents of the page we're scraping\n",
    "\n",
    "results = get('https://www.drudgereport.com/')"
   ]
  },
  {
   "cell_type": "code",
   "execution_count": 58,
   "metadata": {},
   "outputs": [],
   "source": [
    "# make the content we grabbed easy to read\n",
    "\n",
    "html_soup = BeautifulSoup(results.text, 'html.parser')"
   ]
  },
  {
   "cell_type": "code",
   "execution_count": 59,
   "metadata": {},
   "outputs": [
    {
     "name": "stdout",
     "output_type": "stream",
     "text": [
      "<class 'bs4.element.ResultSet'>\n",
      "253\n"
     ]
    }
   ],
   "source": [
    "# get the macro-container containing the posts we want\n",
    "\n",
    "# post = html_soup.find_all('li', class_= 'result-row')\n",
    "\n",
    "posts = html_soup.find_all('a')\n",
    "\n",
    "print(type(posts)) # check I got a ResultSet\n",
    "print(len(posts)) # check I got 120 "
   ]
  },
  {
   "cell_type": "code",
   "execution_count": 60,
   "metadata": {},
   "outputs": [
    {
     "data": {
      "text/plain": [
       "'Which mask? What test? Latest surge spreads epidemic of uncertainty...'"
      ]
     },
     "execution_count": 60,
     "metadata": {},
     "output_type": "execute_result"
    }
   ],
   "source": [
    "# posts[0]\n",
    "posts[0].text"
   ]
  },
  {
   "cell_type": "code",
   "execution_count": 61,
   "metadata": {},
   "outputs": [
    {
     "data": {
      "text/plain": [
       "'https://www.greenwichtime.com/news/article/Which-mask-What-test-Covid-s-latest-surge-16766542.php'"
      ]
     },
     "execution_count": 61,
     "metadata": {},
     "output_type": "execute_result"
    }
   ],
   "source": [
    "posts[0]['href']"
   ]
  },
  {
   "cell_type": "markdown",
   "metadata": {},
   "source": [
    "Top Left\n",
    "- Start at [0]\n",
    "- End with ??\n",
    "Center\n",
    "- Start with ??\n",
    "- End with \"drudgereport\"\n",
    "Column1\n",
    "- Posts\n",
    "    - Start after \"drudgereport\"\n",
    "    - End with \"FRONT PAGES UK\"\n",
    "- Links\n",
    "    - Start after \"FRONT PAGES UK\"\n",
    "    - End with \"ZEROHEDGE\"\n",
    "\n",
    "Column2\n",
    "- Posts\n",
    "    - Start after \"ZEROHEDGE\"\n",
    "    - End with \"WORLD SICK MAP...\"\n",
    "- Links\n",
    "    - Start after \"WORLD SICK MAP...\"\n",
    "    - End with \"BYRON YORK\"\n",
    "\n",
    "Column3\n",
    "- Posts\n",
    "    - Start after \"BYRON YORK\"\n",
    "    - End with \"UPDATE: DRUDGE APP IPHONE, IPAD...\"\n",
    "- Links\n",
    "    - Start after \"UPDATE: DRUDGE APP IPHONE, IPAD...\"\n",
    "    - End with \"PRIVACY POLICY\"\n"
   ]
  },
  {
   "cell_type": "code",
   "execution_count": 62,
   "metadata": {},
   "outputs": [],
   "source": [
    "labels = [\n",
    "    'TOP LEFT',\n",
    "    'CENTER',\n",
    "    'COLUMN1-POSTS',\n",
    "    'COLUMN1-LINKS',\n",
    "    'COLUMN2-POSTS',\n",
    "    'COLUMN2-LINKS',\n",
    "    'COLUMN3-POSTS',\n",
    "    'COLUMN3-LINKS',\n",
    "]"
   ]
  },
  {
   "cell_type": "code",
   "execution_count": 63,
   "metadata": {},
   "outputs": [
    {
     "data": {
      "text/plain": [
       "['TOP LEFT',\n",
       " 'CENTER',\n",
       " 'COLUMN1-POSTS',\n",
       " 'COLUMN1-LINKS',\n",
       " 'COLUMN2-POSTS',\n",
       " 'COLUMN2-LINKS',\n",
       " 'COLUMN3-POSTS',\n",
       " 'COLUMN3-LINKS']"
      ]
     },
     "execution_count": 63,
     "metadata": {},
     "output_type": "execute_result"
    }
   ],
   "source": [
    "labels"
   ]
  },
  {
   "cell_type": "code",
   "execution_count": 64,
   "metadata": {},
   "outputs": [],
   "source": [
    "keyrows = [\n",
    "    'UNKNOWN', \n",
    "    'DRUDGEREPORT', \n",
    "    'FRONT PAGES UK', \n",
    "    'ZEROHEDGE',\n",
    "    'WORLD SICK MAP...', \n",
    "    'BYRON YORK',\n",
    "    'UPDATE: DRUDGE APP IPHONE, IPAD...',\n",
    "    'PRIVACY POLICY',\n",
    "    ]"
   ]
  },
  {
   "cell_type": "code",
   "execution_count": 65,
   "metadata": {},
   "outputs": [
    {
     "data": {
      "text/plain": [
       "['UNKNOWN',\n",
       " 'DRUDGEREPORT',\n",
       " 'FRONT PAGES UK',\n",
       " 'ZEROHEDGE',\n",
       " 'WORLD SICK MAP...',\n",
       " 'BYRON YORK',\n",
       " 'UPDATE: DRUDGE APP IPHONE, IPAD...',\n",
       " 'PRIVACY POLICY']"
      ]
     },
     "execution_count": 65,
     "metadata": {},
     "output_type": "execute_result"
    }
   ],
   "source": [
    "keyrows"
   ]
  },
  {
   "cell_type": "code",
   "execution_count": 66,
   "metadata": {},
   "outputs": [],
   "source": [
    "interesting = [\n",
    "    ['UNKNOWN', 'TOP LEFT'],\n",
    "    ['DRUDGEREPORT', 'CENTER'],\n",
    "    ['FRONT PAGES UK', 'COLUMN1-POSTS'],\n",
    "    ['ZEROHEDGE', 'COLUMN2-LINKS'],\n",
    "    ['WORLD SICK MAP...', 'COLUMN2-LINKS'],\n",
    "    ['BYRON YORK', 'COLUMN1-POSTS'],\n",
    "    ['UPDATE: DRUDGE APP IPHONE, IPAD...', 'COLUMN3-POSTS'],\n",
    "    ['PRIVACY POLICY', 'COLUMN3-LINKS'],\n",
    "    ]"
   ]
  },
  {
   "cell_type": "code",
   "execution_count": 67,
   "metadata": {},
   "outputs": [
    {
     "data": {
      "text/plain": [
       "[['UNKNOWN', 'TOP LEFT'],\n",
       " ['DRUDGEREPORT', 'CENTER'],\n",
       " ['FRONT PAGES UK', 'COLUMN1-POSTS'],\n",
       " ['ZEROHEDGE', 'COLUMN2-LINKS'],\n",
       " ['WORLD SICK MAP...', 'COLUMN2-LINKS'],\n",
       " ['BYRON YORK', 'COLUMN1-POSTS'],\n",
       " ['UPDATE: DRUDGE APP IPHONE, IPAD...', 'COLUMN3-POSTS'],\n",
       " ['PRIVACY POLICY', 'COLUMN3-LINKS']]"
      ]
     },
     "execution_count": 67,
     "metadata": {},
     "output_type": "execute_result"
    }
   ],
   "source": [
    "interesting"
   ]
  },
  {
   "cell_type": "code",
   "execution_count": 68,
   "metadata": {},
   "outputs": [],
   "source": [
    "# interesting[:,1]"
   ]
  },
  {
   "cell_type": "code",
   "execution_count": 69,
   "metadata": {},
   "outputs": [
    {
     "data": {
      "text/plain": [
       "['ZEROHEDGE', 'COLUMN2-LINKS']"
      ]
     },
     "execution_count": 69,
     "metadata": {},
     "output_type": "execute_result"
    }
   ],
   "source": [
    "interesting[3][:]"
   ]
  },
  {
   "cell_type": "code",
   "execution_count": 70,
   "metadata": {},
   "outputs": [
    {
     "data": {
      "text/plain": [
       "[['UNKNOWN', 'TOP LEFT'],\n",
       " ['DRUDGEREPORT', 'CENTER'],\n",
       " ['FRONT PAGES UK', 'COLUMN1-POSTS'],\n",
       " ['ZEROHEDGE', 'COLUMN2-LINKS'],\n",
       " ['WORLD SICK MAP...', 'COLUMN2-LINKS']]"
      ]
     },
     "execution_count": 70,
     "metadata": {},
     "output_type": "execute_result"
    }
   ],
   "source": [
    "interesting[:5]"
   ]
  },
  {
   "cell_type": "code",
   "execution_count": 71,
   "metadata": {},
   "outputs": [
    {
     "data": {
      "text/plain": [
       "[['BYRON YORK', 'COLUMN1-POSTS'],\n",
       " ['UPDATE: DRUDGE APP IPHONE, IPAD...', 'COLUMN3-POSTS'],\n",
       " ['PRIVACY POLICY', 'COLUMN3-LINKS']]"
      ]
     },
     "execution_count": 71,
     "metadata": {},
     "output_type": "execute_result"
    }
   ],
   "source": [
    "interesting[5:]"
   ]
  },
  {
   "cell_type": "code",
   "execution_count": 72,
   "metadata": {},
   "outputs": [
    {
     "data": {
      "text/plain": [
       "['BYRON YORK', 'COLUMN1-POSTS']"
      ]
     },
     "execution_count": 72,
     "metadata": {},
     "output_type": "execute_result"
    }
   ],
   "source": [
    "interesting[5]"
   ]
  },
  {
   "cell_type": "code",
   "execution_count": 75,
   "metadata": {},
   "outputs": [],
   "source": [
    "# print(\"Sliced array: \", interesting[2:5])"
   ]
  },
  {
   "cell_type": "code",
   "execution_count": 92,
   "metadata": {},
   "outputs": [
    {
     "name": "stdout",
     "output_type": "stream",
     "text": [
      "0 TOP LEFT Which mask? What test? Latest surge spreads epidemic of uncertainty...\n",
      "1 TOP LEFT CDC weighs recommending better face coverings...\n",
      "2 TOP LEFT COVID CONFUSION IN WHITE HOUSE...\n",
      "3 TOP LEFT 1.5 MILLION CASES IN DAY...\n",
      "4 TOP LEFT RECORD HOSPITALIZATIONS...\n",
      "5 TOP LEFT DOC:  'Not intubated single patient during surge'...\n",
      "6 TOP LEFT REPORT:  Omicron may be headed for rapid drop...\n",
      "7 TOP LEFT NY cases peak?\n",
      "8 TOP LEFT RED CROSS DECLARES BLOOD CRISIS...\n",
      "9 TOP LEFT New Trend in Healthcare: Do-It-Yourself...\n",
      "10 TOP LEFT UK to launch 'Living with Covid' plan...\n",
      "11 TOP LEFT Treating like flu?\n",
      "12 TOP LEFT WHO:  Over Half of Europe Could Be Infected Soon...\n",
      "13 TOP LEFT Djokovic could face jail for 'lying on travel form'...\n",
      "14 TOP LEFT Fauci Tears Into Rand Paul for 'Inciting Threats on Life'...\n",
      "15 TOP LEFT HOT MIC:  Calls Senator 'Moron'...\n",
      "16 TOP LEFT New docs reveal early beliefs virus was engineered...\n",
      "17 TOP LEFT DOJ FORMS DOMESTIC TERROR UNIT\n",
      "18 TOP LEFT \n",
      "19 TOP LEFT Guerrilla war exercise to be fought across N Carolina counties, Army warns...\n",
      "Battling 'freedom fighters'...\n",
      "20 TOP LEFT Officials: Bomb incidents, bomb-making surge...\n",
      "21 TOP LEFT USA grounded planes after NKorea missile launch...\n",
      "22 TOP LEFT Mystery FAA order...\n",
      "23 TOP LEFT UNITED cuts flights as 3,000 workers call out sick...\n",
      "24 TOP LEFT Russia Positioning Helicopters, in Possible Sign of Ukraine Plans...\n",
      "25 TOP LEFT U.S. Rebuilt NATO to Face Down. Putin Scrambled Those Plans...\n",
      "26 TOP LEFT Undersea Cable Connecting Norway With Arctic Satellite Station Severed...\n",
      "27 TOP LEFT Bitcoin Death Cross Staring Down Bulls After Painful Retreat...\n",
      "28 TOP LEFT ESCAPE: Glamping on Wheels Going to Be Even Bigger in '22...\n",
      "29 TOP LEFT Anti-Big Tech App Still Tracks Users for FACEBOOK...\n",
      "30 TOP LEFT In Bev Hills, Eric Schmidt has Paid $65 Million for Paul Allen's 'Enchanted Hill'...\n",
      "31 TOP LEFT 2nd Union Election at AMAZON in Alabama to Be Held by Mail...\n",
      "32 TOP LEFT Safety doors failed in NYC high-rise fire that killed 17...\n",
      "33 TOP LEFT Hospital helper nearly overlooks brother...\n",
      "34 TOP LEFT 34-year-old father tried to walk home in last week's record snowstorm. His body was found three days later...\n",
      "35 TOP LEFT Scientists: Warm Balls Could Be Next Male Birth Control...\n",
      "2\n",
      "36 FRONT PAGES UK FRONT PAGES UK\n",
      "36 FRONT PAGES UK COLUMN1-POSTS\n",
      "36 COLUMN1-POSTS FRONT PAGES UK\n",
      "37 COLUMN1-POSTS THE PAPERS\n",
      "38 COLUMN1-POSTS WORLD HEADLINES\n",
      "39 COLUMN1-POSTS BOXOFFICE\n",
      "40 COLUMN1-POSTS THE GOOD NEWS FILE...\n",
      "41 COLUMN1-POSTS ABCNEWS\n",
      "42 COLUMN1-POSTS ATLANTIC\n",
      "43 COLUMN1-POSTS ASIA TIMES\n",
      "44 COLUMN1-POSTS AXIOS\n",
      "45 COLUMN1-POSTS BBC\n",
      "46 COLUMN1-POSTS BILD\n",
      "47 COLUMN1-POSTS BILLBOARD \n",
      "48 COLUMN1-POSTS BOSTON GLOBE\n",
      "49 COLUMN1-POSTS BOSTON HERALD\n",
      "50 COLUMN1-POSTS BREITBART\n",
      "51 COLUMN1-POSTS BUSINESS INSIDER\n",
      "52 COLUMN1-POSTS BUZZFEED\n",
      "53 COLUMN1-POSTS CBS NEWS\n",
      "54 COLUMN1-POSTS CBS NEWS LOCAL\n",
      "55 COLUMN1-POSTS C-SPAN\n",
      "56 COLUMN1-POSTS CHICAGO SUN-TIMES\n",
      "57 COLUMN1-POSTS CHICAGO TRIB\n",
      "58 COLUMN1-POSTS CHRISTIAN SCIENCE\n",
      "59 COLUMN1-POSTS CNBC\n",
      "60 COLUMN1-POSTS CNN\n",
      "61 COLUMN1-POSTS DAILY BEAST\n",
      "62 COLUMN1-POSTS DAILY CALLER\n",
      "63 COLUMN1-POSTS DEADLINE HOLLYWOOD\n",
      "64 COLUMN1-POSTS DER SPIEGEL\n",
      "65 COLUMN1-POSTS E!\n",
      "66 COLUMN1-POSTS ENT WEEKLY\n",
      "67 COLUMN1-POSTS FINANCIAL TIMES\n",
      "68 COLUMN1-POSTS FORBES\n",
      "69 COLUMN1-POSTS FOXNEWS\n",
      "70 COLUMN1-POSTS FRANCE 24\n",
      "71 COLUMN1-POSTS FREE BEACON\n",
      "72 COLUMN1-POSTS HILL\n",
      "73 COLUMN1-POSTS HILL: JUST IN\n",
      "74 COLUMN1-POSTS H'WOOD REPORTER\n",
      "75 COLUMN1-POSTS HUFFINGTON POST\n",
      "76 COLUMN1-POSTS INFOWARS\n",
      "77 COLUMN1-POSTS INTERCEPT\n",
      "78 COLUMN1-POSTS JERUSALEM POST\n",
      "79 COLUMN1-POSTS LA DAILY NEWS\n",
      "80 COLUMN1-POSTS LA TIMES\n",
      "81 COLUMN1-POSTS MARKETWATCH\n",
      "82 COLUMN1-POSTS MEDIAITE\n",
      "83 COLUMN1-POSTS MOTHER JONES\n",
      "84 COLUMN1-POSTS NATION\n",
      "85 COLUMN1-POSTS NATIONAL REVIEW\n",
      "86 COLUMN1-POSTS NBC NEWS\n",
      "87 COLUMN1-POSTS NEW REPUBLIC\n",
      "88 COLUMN1-POSTS NEW YORK\n",
      "89 COLUMN1-POSTS NY DAILY NEWS\n",
      "90 COLUMN1-POSTS NY POST\n",
      "91 COLUMN1-POSTS NY TIMES\n",
      "92 COLUMN1-POSTS NY TIMES WIRE\n",
      "93 COLUMN1-POSTS NEW YORKER\n",
      "94 COLUMN1-POSTS NEWSMAX\n",
      "95 COLUMN1-POSTS OK!\n",
      "96 COLUMN1-POSTS PEOPLE\n",
      "97 COLUMN1-POSTS POLITICO\n",
      "98 COLUMN1-POSTS REAL CLEAR POLITICS\n",
      "99 COLUMN1-POSTS REASON\n",
      "100 COLUMN1-POSTS ROLL CALL\n",
      "101 COLUMN1-POSTS ROLLING STONE\n",
      "102 COLUMN1-POSTS SALON\n",
      "103 COLUMN1-POSTS SAN FRAN CHRON\n",
      "104 COLUMN1-POSTS SKY NEWS\n",
      "105 COLUMN1-POSTS SLATE\n",
      "106 COLUMN1-POSTS SMOKING GUN\n",
      "107 COLUMN1-POSTS SPACE DAILY\n",
      "108 COLUMN1-POSTS SUN\n",
      "109 COLUMN1-POSTS TMZ\n",
      "110 COLUMN1-POSTS [UK] DAILY MAIL\n",
      "111 COLUMN1-POSTS [UK] DAILY MAIL FEED\n",
      "112 COLUMN1-POSTS [UK] DAILY MIRROR\n",
      "113 COLUMN1-POSTS [UK] EVENING STANDARD\n",
      "114 COLUMN1-POSTS [UK] EXPRESS\n",
      "115 COLUMN1-POSTS [UK] GUARDIAN\n",
      "116 COLUMN1-POSTS [UK] INDEPENDENT \n",
      "117 COLUMN1-POSTS [UK] SUN\n",
      "118 COLUMN1-POSTS [UK] TELEGRAPH\n",
      "119 COLUMN1-POSTS US NEWS\n",
      "120 COLUMN1-POSTS USA TODAY\n",
      "121 COLUMN1-POSTS VANITY FAIR\n",
      "122 COLUMN1-POSTS VARIETY\n",
      "123 COLUMN1-POSTS WALL STREET JOURNAL\n",
      "124 COLUMN1-POSTS WASH EXAMINER\n",
      "125 COLUMN1-POSTS WASH POST\n",
      "126 COLUMN1-POSTS WASH TIMES\n",
      "3\n",
      "127 ZEROHEDGE ZEROHEDGE\n",
      "127 ZEROHEDGE COLUMN1-LINKS\n",
      "127 COLUMN1-LINKS ZEROHEDGE\n",
      "128 COLUMN1-LINKS Boris faces lockdown-breach claims over garden party...\n",
      "129 COLUMN1-LINKS 'Bring your own booze'...\n",
      "130 COLUMN1-LINKS Police investigate...\n",
      "131 COLUMN1-LINKS The end for PM?\n",
      "132 COLUMN1-LINKS Shoppers 'astounded' by thinning grocery stores...\n",
      "133 COLUMN1-LINKS 'Just empty shelves'...\n",
      "134 COLUMN1-LINKS Families fall deeper in debt amid rising prices...\n",
      "135 COLUMN1-LINKS Treasury warns of delayed tax refunds...\n",
      "136 COLUMN1-LINKS FED Powell: Inflation poses major threat to job market...\n",
      "137 COLUMN1-LINKS Says Economy No Longer Needs Aggressive Stimulus...\n",
      "138 COLUMN1-LINKS JPMORGAN Dimon sees best economic growth in decades...\n",
      "139 COLUMN1-LINKS Dalio Endorses China 'Common Prosperity' Drive...\n",
      "140 COLUMN1-LINKS Dems eager to fill power vacuum after Pelosi exit...\n",
      "141 COLUMN1-LINKS Gay sex scene on Acropolis sparks outcry in Greece...\n",
      "142 COLUMN1-LINKS TROUBLES:  NY DAILY NEWS to outsource printing of newspaper...\n",
      "143 COLUMN1-LINKS Americans Reading Fewer Books...\n",
      "144 COLUMN1-LINKS Palin wants 'Masked Singer' footage barred from jury in NYT suit...\n",
      "145 COLUMN1-LINKS Macron goes after online platforms, foreign 'propaganda' media...\n",
      "146 COLUMN1-LINKS \n",
      "20 million in China now under lockdowns ahead of Olympics...\n",
      "147 COLUMN1-LINKS STUDY: Trusting Societies Fare Better During Pandemic...\n",
      "148 COLUMN1-LINKS Quebec to hit unvaccinated with 'significant' tax...\n",
      "4\n",
      "149 WORLD SICK MAP... WORLD SICK MAP...\n",
      "149 WORLD SICK MAP... COLUMN2-POSTS\n",
      "149 COLUMN2-POSTS WORLD SICK MAP...\n",
      "150 COLUMN2-POSTS 3 AM GIRLS\n",
      "151 COLUMN2-POSTS CINDY ADAMS\n",
      "152 COLUMN2-POSTS MIKE ALLEN\n",
      "153 COLUMN2-POSTS GERARD BAKER\n",
      "154 COLUMN2-POSTS PETER BAKER\n",
      "155 COLUMN2-POSTS BAZ BAMIGBOYE\n",
      "156 COLUMN2-POSTS PETER BART\n",
      "157 COLUMN2-POSTS CHARLES BLOW\n",
      "158 COLUMN2-POSTS DAVID BROOKS\n",
      "159 COLUMN2-POSTS PAT BUCHANAN\n",
      "160 COLUMN2-POSTS MAUREEN CALLAHAN\n",
      "161 COLUMN2-POSTS MONA CHAREN\n",
      "162 COLUMN2-POSTS DAVID CORN\n",
      "163 COLUMN2-POSTS ANN COULTER\n",
      "164 COLUMN2-POSTS S.E. CUPP\n",
      "165 COLUMN2-POSTS MIRANDA DEVINE\n",
      "166 COLUMN2-POSTS MAUREEN DOWD\n",
      "167 COLUMN2-POSTS LARRY ELDER\n",
      "168 COLUMN2-POSTS ROGER FRIEDMAN\n",
      "169 COLUMN2-POSTS MICHAEL FLEMING\n",
      "170 COLUMN2-POSTS BILL GERTZ\n",
      "171 COLUMN2-POSTS NICK GILLESPIE\n",
      "172 COLUMN2-POSTS JONAH GOLDBERG\n",
      "173 COLUMN2-POSTS MICHAEL GOODWIN\n",
      "174 COLUMN2-POSTS GLENN GREENWALD\n",
      "175 COLUMN2-POSTS VICTOR DAVIS HANSON\n",
      "176 COLUMN2-POSTS CHARLES HURT\n",
      "177 COLUMN2-POSTS RICHARD JOHNSON\n",
      "178 COLUMN2-POSTS KRISTOL\n",
      "179 COLUMN2-POSTS KRUGMAN\n",
      "180 COLUMN2-POSTS HOWIE KURTZ\n",
      "181 COLUMN2-POSTS MATT LABASH\n",
      "182 COLUMN2-POSTS RICH LOWRY\n",
      "183 COLUMN2-POSTS PIERS MORGAN\n",
      "184 COLUMN2-POSTS PEGGY NOONAN\n",
      "185 COLUMN2-POSTS CANDACE OWENS\n",
      "186 COLUMN2-POSTS BILL O'REILLY\n",
      "187 COLUMN2-POSTS PAGE SIX\n",
      "188 COLUMN2-POSTS POLITICO PLAYBOOK\n",
      "189 COLUMN2-POSTS REX REED\n",
      "190 COLUMN2-POSTS JOE ROGAN\n",
      "191 COLUMN2-POSTS JIM RUTENBERG\n",
      "192 COLUMN2-POSTS MICHAEL SAVAGE\n",
      "193 COLUMN2-POSTS BEN SHAPIRO\n",
      "194 COLUMN2-POSTS BEN SMITH\n",
      "195 COLUMN2-POSTS KYLE SMITH\n",
      "196 COLUMN2-POSTS SNOWDEN\n",
      "197 COLUMN2-POSTS ANDREW SULLIVAN\n",
      "198 COLUMN2-POSTS JONATHAN SWAN\n",
      "199 COLUMN2-POSTS MATT TAIBBI\n",
      "200 COLUMN2-POSTS CAL THOMAS\n",
      "201 COLUMN2-POSTS GEORGE WILL\n",
      "5\n",
      "202 BYRON YORK BYRON YORK\n",
      "202 BYRON YORK COLUMN2-LINKS\n",
      "202 COLUMN2-LINKS BYRON YORK\n",
      "203 COLUMN2-LINKS SCHOEN:  Hillary's '24 Election Comeback...\n",
      "204 COLUMN2-LINKS Biden to back filibuster changes to push voting rights bill...\n",
      "205 COLUMN2-LINKS Abrams noticeably absent from Atlanta push...\n",
      "206 COLUMN2-LINKS Hollywood's New Rules...\n",
      "207 COLUMN2-LINKS Old boys club rapidly replaced...\n",
      "208 COLUMN2-LINKS Coldest air in years sends Midwest, Northeast into deep freeze...\n",
      "209 COLUMN2-LINKS Schools close!\n",
      "210 COLUMN2-LINKS LIVE CHILL MAP...\n",
      "211 COLUMN2-LINKS Futurist says babymaking could get crazy and smartphone will die...\n",
      "Many parents to one child?\n",
      "212 COLUMN2-LINKS UPDATE: SAGET DEATH CAUSE INVESTIGATED...\n",
      "213 COLUMN2-LINKS RECENTLY BATTLED COVID...\n",
      "214 COLUMN2-LINKS Lawsuit Says Elite Colleges Part of Price-Fixing Cartel...\n",
      "215 COLUMN2-LINKS For Male Celebs Like Harry Styles, It's All About Having Nail Polish Brand...\n",
      "216 COLUMN2-LINKS Breyer, Sotomayor participate in Supreme Court hearing remotely...\n",
      "217 COLUMN2-LINKS Civil Suits Against Trump Seek Damages for Jan. 6 Attack...\n",
      "218 COLUMN2-LINKS Catholic Church Losing Latin America...\n",
      "219 COLUMN2-LINKS Killer Zionist dolphins? Hamas claims they exist...\n",
      "220 COLUMN2-LINKS Can You Fight Aging? Scientists Testing Drugs to Help...\n",
      "221 COLUMN2-LINKS In Cuba, queueing for hours 'just to be able to eat'...\n",
      "222 COLUMN2-LINKS UPDATE:  DRUDGE APP IPHONE, IPAD...\n",
      "223 COLUMN2-LINKS ANDROID...\n",
      "224 COLUMN2-LINKS AGENCE FRANCE-PRESSE\n",
      "225 COLUMN2-LINKS AP TOP\n",
      "226 COLUMN2-LINKS AP RADIO\n",
      "227 COLUMN2-LINKS BLOOMBERG\n",
      "228 COLUMN2-LINKS DEUTSCHE PRESSE-AGENTUR\n",
      "229 COLUMN2-LINKS INDO-ASIAN NEWS SERVICE\n",
      "230 COLUMN2-LINKS INTERFAX\n",
      "231 COLUMN2-LINKS ITAR-TASS\n",
      "232 COLUMN2-LINKS KYODO\n",
      "233 COLUMN2-LINKS MCCLATCHY [DC]\n",
      "234 COLUMN2-LINKS PRAVDA\n",
      "235 COLUMN2-LINKS PRESS TRUST INDIA\n",
      "236 COLUMN2-LINKS REUTERS\n",
      "237 COLUMN2-LINKS REUTERS POLITICS\n",
      "238 COLUMN2-LINKS REUTERS WORLD\n",
      "239 COLUMN2-LINKS XINHUA\n",
      "240 COLUMN2-LINKS UPI\n",
      "241 COLUMN2-LINKS YONHAP\n",
      "242 COLUMN2-LINKS ARCHIVES\n",
      "243 COLUMN2-LINKS RECENT HEADLINES...\n",
      "244 COLUMN2-LINKS WEATHER ACTION\n",
      "245 COLUMN2-LINKS ZOOM EARTH\n",
      "246 COLUMN2-LINKS QUAKE SHEET\n",
      "247 COLUMN2-LINKS REFERENCE DESK\n",
      "248 COLUMN2-LINKS EMAIL: DRUDGE@DRUDGEREPORT.COM\n",
      "249 COLUMN2-LINKS BE SEEN! RUN ADS ON DRUDGE REPORT...\n",
      "250 COLUMN2-LINKS CALIFORNIA NOTICE\n",
      "251 COLUMN2-LINKS DO NOT SELL MY INFO\n",
      "7\n",
      "252 PRIVACY POLICY PRIVACY POLICY\n",
      "252 PRIVACY POLICY COLUMN3-LINKS\n",
      "252 COLUMN3-LINKS PRIVACY POLICY\n"
     ]
    }
   ],
   "source": [
    "\n",
    "row = 0\n",
    "label = labels[row]\n",
    "\n",
    "for post in posts:\n",
    "    \n",
    "    if post.text in keyrows:\n",
    "        foundrow = keyrows.index(post.text)\n",
    "        print(foundrow)\n",
    "        print(row, post.text, keyrows[foundrow])\n",
    "        print(row, post.text, labels[foundrow])\n",
    "        label = labels[foundrow]\n",
    "\n",
    "    print(row, label, post.text)\n",
    "\n",
    "    row = row + 1\n"
   ]
  },
  {
   "cell_type": "code",
   "execution_count": null,
   "metadata": {},
   "outputs": [],
   "source": [
    "import array\n",
    "import numpy as np\n",
    " \n",
    "#array initialisation\n",
    "array_arr= array.array('i',[1,2,3,4,5])\n",
    "np_arr = np.array([6,7,8,9,10])\n",
    " \n",
    "#slicing array with 1 parameter\n",
    "print(\"Sliced array: \", array_arr[:3])\n",
    "print(\"Sliced NumPy array: \", np_arr[:4])"
   ]
  }
 ],
 "metadata": {
  "interpreter": {
   "hash": "fd2c36b04d3ce09a4da40969b0df15ba60dbe9c53751893183590f8218ff5ba6"
  },
  "kernelspec": {
   "display_name": "Python 3.8.10 64-bit ('env': venv)",
   "language": "python",
   "name": "python3"
  },
  "language_info": {
   "codemirror_mode": {
    "name": "ipython",
    "version": 3
   },
   "file_extension": ".py",
   "mimetype": "text/x-python",
   "name": "python",
   "nbconvert_exporter": "python",
   "pygments_lexer": "ipython3",
   "version": "3.8.10"
  },
  "orig_nbformat": 4
 },
 "nbformat": 4,
 "nbformat_minor": 2
}
