{
 "cells": [
  {
   "cell_type": "code",
   "execution_count": 1,
   "metadata": {},
   "outputs": [
    {
     "ename": "ModuleNotFoundError",
     "evalue": "No module named 'pandas'",
     "output_type": "error",
     "traceback": [
      "\u001b[0;31m---------------------------------------------------------------------------\u001b[0m",
      "\u001b[0;31mModuleNotFoundError\u001b[0m                       Traceback (most recent call last)",
      "\u001b[0;32m/tmp/ipykernel_456860/3671616167.py\u001b[0m in \u001b[0;36m<module>\u001b[0;34m\u001b[0m\n\u001b[1;32m     10\u001b[0m \u001b[0;32mfrom\u001b[0m \u001b[0mIPython\u001b[0m\u001b[0;34m.\u001b[0m\u001b[0mcore\u001b[0m\u001b[0;34m.\u001b[0m\u001b[0mdisplay\u001b[0m \u001b[0;32mimport\u001b[0m \u001b[0mclear_output\u001b[0m\u001b[0;34m\u001b[0m\u001b[0;34m\u001b[0m\u001b[0m\n\u001b[1;32m     11\u001b[0m \u001b[0;32mimport\u001b[0m \u001b[0mnumpy\u001b[0m \u001b[0;32mas\u001b[0m \u001b[0mnp\u001b[0m\u001b[0;34m\u001b[0m\u001b[0;34m\u001b[0m\u001b[0m\n\u001b[0;32m---> 12\u001b[0;31m \u001b[0;32mimport\u001b[0m \u001b[0mpandas\u001b[0m \u001b[0;32mas\u001b[0m \u001b[0mpd\u001b[0m\u001b[0;34m\u001b[0m\u001b[0;34m\u001b[0m\u001b[0m\n\u001b[0m\u001b[1;32m     13\u001b[0m \u001b[0;32mfrom\u001b[0m \u001b[0mdatetime\u001b[0m \u001b[0;32mimport\u001b[0m \u001b[0mdatetime\u001b[0m\u001b[0;34m\u001b[0m\u001b[0;34m\u001b[0m\u001b[0m\n",
      "\u001b[0;31mModuleNotFoundError\u001b[0m: No module named 'pandas'"
     ]
    }
   ],
   "source": [
    "# import all modules that will be used in our scraper\n",
    "\n",
    "from requests import get \n",
    "from bs4 import BeautifulSoup\n",
    "from time import sleep\n",
    "import re\n",
    "from random import randint \n",
    "from warnings import warn\n",
    "from time import time\n",
    "from IPython.core.display import clear_output\n",
    "import numpy as np\n",
    "import pandas as pd\n",
    "from datetime import datetime"
   ]
  },
  {
   "cell_type": "code",
   "execution_count": 2,
   "metadata": {},
   "outputs": [],
   "source": [
    "# request the contents of the page we're scraping\n",
    "\n",
    "results = get('https://www.drudgereport.com/')"
   ]
  },
  {
   "cell_type": "code",
   "execution_count": 3,
   "metadata": {},
   "outputs": [
    {
     "data": {
      "text/plain": [
       "bs4.element.Tag"
      ]
     },
     "execution_count": 3,
     "metadata": {},
     "output_type": "execute_result"
    }
   ],
   "source": [
    "soup = BeautifulSoup('<b class=\"boldest\">Extremely bold</b>', 'html.parser')\n",
    "tag = soup.b\n",
    "type(tag)\n",
    "# <class 'bs4.element.Tag'>"
   ]
  },
  {
   "cell_type": "code",
   "execution_count": 4,
   "metadata": {},
   "outputs": [
    {
     "data": {
      "text/plain": [
       "'b'"
      ]
     },
     "execution_count": 4,
     "metadata": {},
     "output_type": "execute_result"
    }
   ],
   "source": [
    "tag.name\n",
    "# 'b'"
   ]
  },
  {
   "cell_type": "code",
   "execution_count": 7,
   "metadata": {},
   "outputs": [
    {
     "data": {
      "text/plain": [
       "bs4.element.Tag"
      ]
     },
     "execution_count": 7,
     "metadata": {},
     "output_type": "execute_result"
    }
   ],
   "source": [
    "soup = BeautifulSoup(results.text, 'html.parser')\n",
    "tag = soup.b\n",
    "type(tag)"
   ]
  },
  {
   "cell_type": "code",
   "execution_count": 8,
   "metadata": {},
   "outputs": [
    {
     "data": {
      "text/plain": [
       "<blockquote>\n",
       "<img src=\"//eproof.drudgereport.com/pixel.gif\" style=\"visibility: collapse;\"/>\n",
       "<center>\n",
       "<!-- Granite3 Top Web -->\n",
       "<!-- /218243714/DR-center_1 -->\n",
       "<div id=\"div-gpt-ad-1564685541535-0\">\n",
       "<script>\n",
       "googletag.cmd.push(function() { googletag.display('div-gpt-ad-1564685541535-0'); });\n",
       "</script>\n",
       "</div>\n",
       "<div id=\"div-gpt-ad-1564810986146-0\" style=\"margin-top:16px;\"></div>\n",
       "<!-- Granite3 end -->\n",
       "</center>\n",
       "<!-- TOP LEFT STARTS HERE--><tt><b><br/><br/>\n",
       "<a href=\"https://apnews.com/article/coronavirus-pandemic-joe-biden-business-health-elections-bb16c5c52e2bf719ec8a0c5415aaf66c\">POLL: Inflation up, virus down as priorities in USA...</a>\n",
       "<br/>\n",
       "<a href=\"https://www.politico.com/states/new-york/city-hall/story/2022/01/09/omicron-is-surging-and-democrats-arent-shutting-things-down-this-time-1404752\">Dems NOT shutting things down this time...</a>\n",
       "<br/>\n",
       "<a href=\"https://www.theatlantic.com/ideas/archive/2022/01/covid-omicron-vaccination-rashomon/621199/\">ENOUGH: More Saying They're 'Vaxxed and Done'...</a>\n",
       "<br/>\n",
       "<a href=\"https://www.mirror.co.uk/news/politics/what-living-covid-boris-johnson-25900277\">Boris to launch 'Living with Covid' plan in UK...</a>\n",
       "<br/>\n",
       "<a href=\"https://www.the-sun.com/health/4425231/covid-spreading-hotspots-sage-list/\">Where you are most likely to catch?</a>\n",
       "<br/>\n",
       "<a href=\"https://unherd.com/2022/01/how-vaccine-mandates-became-a-political-weapon/\">Evidence AGAINST mandates piles up...</a>\n",
       "<br/>\n",
       "<a href=\"https://www.wsj.com/articles/u-s-cases-set-to-triple-pre-omicron-record-11641816922\">Infections Set to Triple Pre-Omicron Record...</a>\n",
       "<br/>\n",
       "<a href=\"https://www.reuters.com/world/us/us-breaks-covid-19-hospitalization-record-omicron-surges-2022-01-10/\">USA breaks hospitalization record...</a><br/>\n",
       "<a href=\"https://www.fox5ny.com/news/covid-19-hospitalizations-in-nj-highest-since-start-of-pandemic\" nopush=\"\">NJ highest since start of pandemic...</a><br/>\n",
       "<a href=\"https://www.wsj.com/articles/hospitals-cut-beds-as-nurses-call-in-sick-with-covid-19-11641810781\">Beds Cut as Nurses Stay Home...</a><br/>\n",
       "<a href=\"https://www.politico.com/news/2022/01/10/doctors-covid-staff-shortage-526842\">Sick staff asked to return...</a>\n",
       "<br/>\n",
       "<a href=\"https://www.cnbc.com/2022/01/10/deltacron-variant-prompts-doubts-among-experts-as-possible-lab-error.html\">UPDATE: 'Deltacron' likely result of lab error...</a>\n",
       "<br/>\n",
       "<a href=\"https://www.washingtonpost.com/nation/2022/01/10/covid-omicron-variant-live-updates/\">PFIZER predicts 'annual shots'...</a><br/>\n",
       "<a href=\"https://www.thestate.com/news/politics-government/article257197652.html\" nopush=\"\"><font color=\"red\">Dosed Rep. Tests Positive for 2nd Time...</font></a><br/>\n",
       "<a href=\"https://timesofindia.indiatimes.com/home/science/t-cells-triggered-by-common-cold-also-fend-off-covid-study/articleshow/88810374.cms\">T Cells Triggered by Common Cold Also Fend Off Corona...</a>\n",
       "<br/>\n",
       "<a href=\"https://www.msn.com/en-us/news/world/in-much-of-the-west-the-walls-are-closing-in-on-anti-vaxxers/ar-AASBLqy\" nopush=\"\"><font color=\"red\">In much of West, walls closing in on anti-vaxxers...</font></a>\n",
       "<br/>\n",
       "<a href=\"https://www.cnn.com/world/live-news/omicron-variant-coronavirus-news-01-10-22/h_2e186532ee244a0ad2ee07854a540d0c\">Sweden imposing curfew...</a><br/>\n",
       "<a href=\"https://apnews.com/article/coronavirus-pandemic-novak-djokovic-sports-health-australia-3e4fd65e0ac87c85e6fcc6b968a62869\">Australian judge says Djokovic can stay but saga not over...</a><br/>\n",
       "<a href=\"http://news.trust.org/item/20220110114729-bmg1p\"><i>Pranksters hijack virtual court hearing to stream porn...</i></a>\n",
       "<br/><br/><br/>\n",
       "<center>\n",
       "<!-- MAIN HEADLINE--><font face=\"ARIAL,VERDANA,HELVETICA\"><font size=\"+7\"><img height=\"400\" src=\"https://pbs.twimg.com/media/FIxVjmHWUAYMzX8?format=jpg&amp;name=small\"/><br/><a href=\"https://apnews.com/article/pig-heart-transplant-6651614cb9d73bada8eea2ecb6449aef\" nopush=\"\"><font color=\"red\">MAN GETS GENETICALLY ALTERED PIG HEART</font></a>\n",
       "</font></font></center>\n",
       "</b></tt>\n",
       "<center>\n",
       "<a href=\"https://www.drudgereport.com\"><img border=\"0\" height=\"85\" src=\"/i/logo9.gif\" width=\"610\"/></a>\n",
       "</center><br/>\n",
       "</blockquote>"
      ]
     },
     "execution_count": 8,
     "metadata": {},
     "output_type": "execute_result"
    }
   ],
   "source": [
    "tag.name = \"blockquote\"\n",
    "tag\n",
    "# <blockquote class=\"boldest\">Extremely bold</blockquote>"
   ]
  }
 ],
 "metadata": {
  "interpreter": {
   "hash": "fd2c36b04d3ce09a4da40969b0df15ba60dbe9c53751893183590f8218ff5ba6"
  },
  "kernelspec": {
   "display_name": "Python 3.8.10 64-bit ('env': venv)",
   "language": "python",
   "name": "python3"
  },
  "language_info": {
   "codemirror_mode": {
    "name": "ipython",
    "version": 3
   },
   "file_extension": ".py",
   "mimetype": "text/x-python",
   "name": "python",
   "nbconvert_exporter": "python",
   "pygments_lexer": "ipython3",
   "version": "3.8.10"
  },
  "orig_nbformat": 4
 },
 "nbformat": 4,
 "nbformat_minor": 2
}
